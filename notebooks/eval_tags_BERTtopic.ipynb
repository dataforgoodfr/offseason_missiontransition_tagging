{
 "cells": [
  {
   "cell_type": "code",
   "execution_count": 1,
   "metadata": {
    "collapsed": true
   },
   "outputs": [],
   "source": [
    "import pandas as pd\n",
    "import re"
   ]
  },
  {
   "cell_type": "code",
   "execution_count": 24,
   "metadata": {
    "collapsed": true
   },
   "outputs": [],
   "source": [
    "tags_df = pd.read_csv(\"bert_tag_eval.csv\")"
   ]
  },
  {
   "cell_type": "code",
   "execution_count": 25,
   "metadata": {
    "collapsed": false
   },
   "outputs": [
    {
     "data": {
      "text/html": [
       "<div>\n",
       "<table border=\"1\" class=\"dataframe\">\n",
       "  <thead>\n",
       "    <tr style=\"text-align: right;\">\n",
       "      <th></th>\n",
       "      <th>Unnamed: 0</th>\n",
       "      <th>id</th>\n",
       "      <th>description</th>\n",
       "      <th>tag</th>\n",
       "      <th>Unnamed: 4</th>\n",
       "    </tr>\n",
       "  </thead>\n",
       "  <tbody>\n",
       "    <tr>\n",
       "      <th>0</th>\n",
       "      <td>0</td>\n",
       "      <td>95066</td>\n",
       "      <td>&lt;p&gt;\\n &lt;strong&gt;\\n  Objectifs\\n &lt;/strong&gt;\\n &lt;ul&gt;...</td>\n",
       "      <td>2_énergie_énergétique_chaleur_énergies</td>\n",
       "      <td>NaN</td>\n",
       "    </tr>\n",
       "    <tr>\n",
       "      <th>1</th>\n",
       "      <td>1</td>\n",
       "      <td>103448</td>\n",
       "      <td>&lt;p&gt;\\n &lt;img alt=\"Budget participatif écologique...</td>\n",
       "      <td>2_énergie_énergétique_chaleur_énergies</td>\n",
       "      <td>NaN</td>\n",
       "    </tr>\n",
       "    <tr>\n",
       "      <th>2</th>\n",
       "      <td>2</td>\n",
       "      <td>60904</td>\n",
       "      <td>&lt;p&gt;\\n La BPI investit dans des PME et ETI perf...</td>\n",
       "      <td>1_entreprises_entreprise_innovation_export</td>\n",
       "      <td>NaN</td>\n",
       "    </tr>\n",
       "    <tr>\n",
       "      <th>3</th>\n",
       "      <td>3</td>\n",
       "      <td>89215</td>\n",
       "      <td>&lt;p&gt;\\n La formation-développement est une métho...</td>\n",
       "      <td>17_territoires_développement_territoire_projets</td>\n",
       "      <td>NaN</td>\n",
       "    </tr>\n",
       "    <tr>\n",
       "      <th>4</th>\n",
       "      <td>4</td>\n",
       "      <td>71378</td>\n",
       "      <td>&lt;p&gt;\\n Le conseil en mobilité pour l'insertion ...</td>\n",
       "      <td>11_mobilité_vélo_cyclables_réseau</td>\n",
       "      <td>NaN</td>\n",
       "    </tr>\n",
       "  </tbody>\n",
       "</table>\n",
       "</div>"
      ],
      "text/plain": [
       "   Unnamed: 0      id                                        description  \\\n",
       "0           0   95066  <p>\\n <strong>\\n  Objectifs\\n </strong>\\n <ul>...   \n",
       "1           1  103448  <p>\\n <img alt=\"Budget participatif écologique...   \n",
       "2           2   60904  <p>\\n La BPI investit dans des PME et ETI perf...   \n",
       "3           3   89215  <p>\\n La formation-développement est une métho...   \n",
       "4           4   71378  <p>\\n Le conseil en mobilité pour l'insertion ...   \n",
       "\n",
       "                                               tag Unnamed: 4  \n",
       "0           2_énergie_énergétique_chaleur_énergies        NaN  \n",
       "1           2_énergie_énergétique_chaleur_énergies        NaN  \n",
       "2       1_entreprises_entreprise_innovation_export        NaN  \n",
       "3  17_territoires_développement_territoire_projets        NaN  \n",
       "4                11_mobilité_vélo_cyclables_réseau        NaN  "
      ]
     },
     "execution_count": 25,
     "metadata": {},
     "output_type": "execute_result"
    }
   ],
   "source": [
    "tags_df.head()"
   ]
  },
  {
   "cell_type": "code",
   "execution_count": 26,
   "metadata": {
    "collapsed": false
   },
   "outputs": [],
   "source": [
    "tags_df.drop(labels='Unnamed: 0', axis=1, inplace=True)"
   ]
  },
  {
   "cell_type": "code",
   "execution_count": 27,
   "metadata": {
    "collapsed": false
   },
   "outputs": [
    {
     "data": {
      "text/html": [
       "<div>\n",
       "<table border=\"1\" class=\"dataframe\">\n",
       "  <thead>\n",
       "    <tr style=\"text-align: right;\">\n",
       "      <th></th>\n",
       "      <th>id</th>\n",
       "      <th>description</th>\n",
       "      <th>tag</th>\n",
       "      <th>Unnamed: 4</th>\n",
       "    </tr>\n",
       "  </thead>\n",
       "  <tbody>\n",
       "    <tr>\n",
       "      <th>0</th>\n",
       "      <td>95066</td>\n",
       "      <td>&lt;p&gt;\\n &lt;strong&gt;\\n  Objectifs\\n &lt;/strong&gt;\\n &lt;ul&gt;...</td>\n",
       "      <td>2_énergie_énergétique_chaleur_énergies</td>\n",
       "      <td>NaN</td>\n",
       "    </tr>\n",
       "    <tr>\n",
       "      <th>1</th>\n",
       "      <td>103448</td>\n",
       "      <td>&lt;p&gt;\\n &lt;img alt=\"Budget participatif écologique...</td>\n",
       "      <td>2_énergie_énergétique_chaleur_énergies</td>\n",
       "      <td>NaN</td>\n",
       "    </tr>\n",
       "    <tr>\n",
       "      <th>2</th>\n",
       "      <td>60904</td>\n",
       "      <td>&lt;p&gt;\\n La BPI investit dans des PME et ETI perf...</td>\n",
       "      <td>1_entreprises_entreprise_innovation_export</td>\n",
       "      <td>NaN</td>\n",
       "    </tr>\n",
       "    <tr>\n",
       "      <th>3</th>\n",
       "      <td>89215</td>\n",
       "      <td>&lt;p&gt;\\n La formation-développement est une métho...</td>\n",
       "      <td>17_territoires_développement_territoire_projets</td>\n",
       "      <td>NaN</td>\n",
       "    </tr>\n",
       "    <tr>\n",
       "      <th>4</th>\n",
       "      <td>71378</td>\n",
       "      <td>&lt;p&gt;\\n Le conseil en mobilité pour l'insertion ...</td>\n",
       "      <td>11_mobilité_vélo_cyclables_réseau</td>\n",
       "      <td>NaN</td>\n",
       "    </tr>\n",
       "  </tbody>\n",
       "</table>\n",
       "</div>"
      ],
      "text/plain": [
       "       id                                        description  \\\n",
       "0   95066  <p>\\n <strong>\\n  Objectifs\\n </strong>\\n <ul>...   \n",
       "1  103448  <p>\\n <img alt=\"Budget participatif écologique...   \n",
       "2   60904  <p>\\n La BPI investit dans des PME et ETI perf...   \n",
       "3   89215  <p>\\n La formation-développement est une métho...   \n",
       "4   71378  <p>\\n Le conseil en mobilité pour l'insertion ...   \n",
       "\n",
       "                                               tag Unnamed: 4  \n",
       "0           2_énergie_énergétique_chaleur_énergies        NaN  \n",
       "1           2_énergie_énergétique_chaleur_énergies        NaN  \n",
       "2       1_entreprises_entreprise_innovation_export        NaN  \n",
       "3  17_territoires_développement_territoire_projets        NaN  \n",
       "4                11_mobilité_vélo_cyclables_réseau        NaN  "
      ]
     },
     "execution_count": 27,
     "metadata": {},
     "output_type": "execute_result"
    }
   ],
   "source": [
    "tags_df.head()"
   ]
  },
  {
   "cell_type": "code",
   "execution_count": 28,
   "metadata": {
    "collapsed": false
   },
   "outputs": [],
   "source": [
    "tags_df.rename(columns={'Unnamed: 4': 'eval'}, inplace=True)"
   ]
  },
  {
   "cell_type": "code",
   "execution_count": 29,
   "metadata": {
    "collapsed": false
   },
   "outputs": [
    {
     "data": {
      "text/html": [
       "<div>\n",
       "<table border=\"1\" class=\"dataframe\">\n",
       "  <thead>\n",
       "    <tr style=\"text-align: right;\">\n",
       "      <th></th>\n",
       "      <th>id</th>\n",
       "      <th>description</th>\n",
       "      <th>tag</th>\n",
       "      <th>eval</th>\n",
       "    </tr>\n",
       "  </thead>\n",
       "  <tbody>\n",
       "    <tr>\n",
       "      <th>0</th>\n",
       "      <td>95066</td>\n",
       "      <td>&lt;p&gt;\\n &lt;strong&gt;\\n  Objectifs\\n &lt;/strong&gt;\\n &lt;ul&gt;...</td>\n",
       "      <td>2_énergie_énergétique_chaleur_énergies</td>\n",
       "      <td>NaN</td>\n",
       "    </tr>\n",
       "    <tr>\n",
       "      <th>1</th>\n",
       "      <td>103448</td>\n",
       "      <td>&lt;p&gt;\\n &lt;img alt=\"Budget participatif écologique...</td>\n",
       "      <td>2_énergie_énergétique_chaleur_énergies</td>\n",
       "      <td>NaN</td>\n",
       "    </tr>\n",
       "    <tr>\n",
       "      <th>2</th>\n",
       "      <td>60904</td>\n",
       "      <td>&lt;p&gt;\\n La BPI investit dans des PME et ETI perf...</td>\n",
       "      <td>1_entreprises_entreprise_innovation_export</td>\n",
       "      <td>NaN</td>\n",
       "    </tr>\n",
       "    <tr>\n",
       "      <th>3</th>\n",
       "      <td>89215</td>\n",
       "      <td>&lt;p&gt;\\n La formation-développement est une métho...</td>\n",
       "      <td>17_territoires_développement_territoire_projets</td>\n",
       "      <td>NaN</td>\n",
       "    </tr>\n",
       "    <tr>\n",
       "      <th>4</th>\n",
       "      <td>71378</td>\n",
       "      <td>&lt;p&gt;\\n Le conseil en mobilité pour l'insertion ...</td>\n",
       "      <td>11_mobilité_vélo_cyclables_réseau</td>\n",
       "      <td>NaN</td>\n",
       "    </tr>\n",
       "  </tbody>\n",
       "</table>\n",
       "</div>"
      ],
      "text/plain": [
       "       id                                        description  \\\n",
       "0   95066  <p>\\n <strong>\\n  Objectifs\\n </strong>\\n <ul>...   \n",
       "1  103448  <p>\\n <img alt=\"Budget participatif écologique...   \n",
       "2   60904  <p>\\n La BPI investit dans des PME et ETI perf...   \n",
       "3   89215  <p>\\n La formation-développement est une métho...   \n",
       "4   71378  <p>\\n Le conseil en mobilité pour l'insertion ...   \n",
       "\n",
       "                                               tag eval  \n",
       "0           2_énergie_énergétique_chaleur_énergies  NaN  \n",
       "1           2_énergie_énergétique_chaleur_énergies  NaN  \n",
       "2       1_entreprises_entreprise_innovation_export  NaN  \n",
       "3  17_territoires_développement_territoire_projets  NaN  \n",
       "4                11_mobilité_vélo_cyclables_réseau  NaN  "
      ]
     },
     "execution_count": 29,
     "metadata": {},
     "output_type": "execute_result"
    }
   ],
   "source": [
    "tags_df.head()"
   ]
  },
  {
   "cell_type": "code",
   "execution_count": 30,
   "metadata": {
    "collapsed": false
   },
   "outputs": [],
   "source": [
    "tags_df.dropna(inplace=True)"
   ]
  },
  {
   "cell_type": "code",
   "execution_count": 31,
   "metadata": {
    "collapsed": false
   },
   "outputs": [
    {
     "data": {
      "text/html": [
       "<div>\n",
       "<table border=\"1\" class=\"dataframe\">\n",
       "  <thead>\n",
       "    <tr style=\"text-align: right;\">\n",
       "      <th></th>\n",
       "      <th>id</th>\n",
       "      <th>description</th>\n",
       "      <th>tag</th>\n",
       "      <th>eval</th>\n",
       "    </tr>\n",
       "  </thead>\n",
       "  <tbody>\n",
       "    <tr>\n",
       "      <th>31</th>\n",
       "      <td>8194</td>\n",
       "      <td>L'objectif est d'accompagner les maîtres d'ouv...</td>\n",
       "      <td>il convient de diminuer les pressions et les ...</td>\n",
       "      <td>0_eau_milieux_gestion_aquatiques</td>\n",
       "    </tr>\n",
       "    <tr>\n",
       "      <th>57</th>\n",
       "      <td>66858</td>\n",
       "      <td>&lt;p&gt;\\n La Région Occitanie est aux côtés des ac...</td>\n",
       "      <td>7_agricoles_agricole_agriculture_exploitations</td>\n",
       "      <td>1</td>\n",
       "    </tr>\n",
       "    <tr>\n",
       "      <th>58</th>\n",
       "      <td>46992</td>\n",
       "      <td>&lt;p&gt;\\n HDF Avenir Projets finance :\\n&lt;/p&gt;\\n&lt;p&gt;\\...</td>\n",
       "      <td>1_entreprises_entreprise_innovation_export</td>\n",
       "      <td>1</td>\n",
       "    </tr>\n",
       "    <tr>\n",
       "      <th>59</th>\n",
       "      <td>60938</td>\n",
       "      <td>&lt;p&gt;\\n La BPI accompagne les entreprises en met...</td>\n",
       "      <td>1_entreprises_entreprise_innovation_export</td>\n",
       "      <td>1</td>\n",
       "    </tr>\n",
       "    <tr>\n",
       "      <th>60</th>\n",
       "      <td>7995</td>\n",
       "      <td>&lt;p&gt;\\n &lt;strong&gt;\\n  Dépollution des industries e...</td>\n",
       "      <td>0_eau_milieux_gestion_aquatiques</td>\n",
       "      <td>0</td>\n",
       "    </tr>\n",
       "  </tbody>\n",
       "</table>\n",
       "</div>"
      ],
      "text/plain": [
       "       id                                        description  \\\n",
       "31   8194  L'objectif est d'accompagner les maîtres d'ouv...   \n",
       "57  66858  <p>\\n La Région Occitanie est aux côtés des ac...   \n",
       "58  46992  <p>\\n HDF Avenir Projets finance :\\n</p>\\n<p>\\...   \n",
       "59  60938  <p>\\n La BPI accompagne les entreprises en met...   \n",
       "60   7995  <p>\\n <strong>\\n  Dépollution des industries e...   \n",
       "\n",
       "                                                  tag  \\\n",
       "31   il convient de diminuer les pressions et les ...   \n",
       "57     7_agricoles_agricole_agriculture_exploitations   \n",
       "58         1_entreprises_entreprise_innovation_export   \n",
       "59         1_entreprises_entreprise_innovation_export   \n",
       "60                   0_eau_milieux_gestion_aquatiques   \n",
       "\n",
       "                                eval  \n",
       "31  0_eau_milieux_gestion_aquatiques  \n",
       "57                                 1  \n",
       "58                                 1  \n",
       "59                                 1  \n",
       "60                                 0  "
      ]
     },
     "execution_count": 31,
     "metadata": {},
     "output_type": "execute_result"
    }
   ],
   "source": [
    "tags_df.head()"
   ]
  },
  {
   "cell_type": "code",
   "execution_count": 32,
   "metadata": {
    "collapsed": true
   },
   "outputs": [],
   "source": [
    "def clean_description(descr):\n",
    "    descr = re.sub(r\"<.*?>|</.*?>\", \"\", descr)\n",
    "    descr = re.sub(r\"[\\t\\n\\r\\f\\v]\", \"\", descr)\n",
    "    return descr"
   ]
  },
  {
   "cell_type": "code",
   "execution_count": 33,
   "metadata": {
    "collapsed": true
   },
   "outputs": [],
   "source": [
    "tags_df[\"description\"] = tags_df[\"description\"].apply(lambda t: clean_description(t))"
   ]
  },
  {
   "cell_type": "code",
   "execution_count": 34,
   "metadata": {
    "collapsed": false
   },
   "outputs": [
    {
     "data": {
      "text/html": [
       "<div>\n",
       "<table border=\"1\" class=\"dataframe\">\n",
       "  <thead>\n",
       "    <tr style=\"text-align: right;\">\n",
       "      <th></th>\n",
       "      <th>id</th>\n",
       "      <th>description</th>\n",
       "      <th>tag</th>\n",
       "      <th>eval</th>\n",
       "    </tr>\n",
       "  </thead>\n",
       "  <tbody>\n",
       "    <tr>\n",
       "      <th>31</th>\n",
       "      <td>8194</td>\n",
       "      <td>L'objectif est d'accompagner les maîtres d'ouv...</td>\n",
       "      <td>il convient de diminuer les pressions et les ...</td>\n",
       "      <td>0_eau_milieux_gestion_aquatiques</td>\n",
       "    </tr>\n",
       "    <tr>\n",
       "      <th>57</th>\n",
       "      <td>66858</td>\n",
       "      <td>La Région Occitanie est aux côtés des acteurs...</td>\n",
       "      <td>7_agricoles_agricole_agriculture_exploitations</td>\n",
       "      <td>1</td>\n",
       "    </tr>\n",
       "    <tr>\n",
       "      <th>58</th>\n",
       "      <td>46992</td>\n",
       "      <td>HDF Avenir Projets finance : Les projets inno...</td>\n",
       "      <td>1_entreprises_entreprise_innovation_export</td>\n",
       "      <td>1</td>\n",
       "    </tr>\n",
       "    <tr>\n",
       "      <th>59</th>\n",
       "      <td>60938</td>\n",
       "      <td>La BPI accompagne les entreprises en mettant ...</td>\n",
       "      <td>1_entreprises_entreprise_innovation_export</td>\n",
       "      <td>1</td>\n",
       "    </tr>\n",
       "    <tr>\n",
       "      <th>60</th>\n",
       "      <td>7995</td>\n",
       "      <td>Dépollution des industries et autres activi...</td>\n",
       "      <td>0_eau_milieux_gestion_aquatiques</td>\n",
       "      <td>0</td>\n",
       "    </tr>\n",
       "  </tbody>\n",
       "</table>\n",
       "</div>"
      ],
      "text/plain": [
       "       id                                        description  \\\n",
       "31   8194  L'objectif est d'accompagner les maîtres d'ouv...   \n",
       "57  66858   La Région Occitanie est aux côtés des acteurs...   \n",
       "58  46992   HDF Avenir Projets finance : Les projets inno...   \n",
       "59  60938   La BPI accompagne les entreprises en mettant ...   \n",
       "60   7995     Dépollution des industries et autres activi...   \n",
       "\n",
       "                                                  tag  \\\n",
       "31   il convient de diminuer les pressions et les ...   \n",
       "57     7_agricoles_agricole_agriculture_exploitations   \n",
       "58         1_entreprises_entreprise_innovation_export   \n",
       "59         1_entreprises_entreprise_innovation_export   \n",
       "60                   0_eau_milieux_gestion_aquatiques   \n",
       "\n",
       "                                eval  \n",
       "31  0_eau_milieux_gestion_aquatiques  \n",
       "57                                 1  \n",
       "58                                 1  \n",
       "59                                 1  \n",
       "60                                 0  "
      ]
     },
     "execution_count": 34,
     "metadata": {},
     "output_type": "execute_result"
    }
   ],
   "source": [
    "tags_df.head()"
   ]
  },
  {
   "cell_type": "code",
   "execution_count": 36,
   "metadata": {
    "collapsed": false
   },
   "outputs": [
    {
     "data": {
      "text/html": [
       "<div>\n",
       "<table border=\"1\" class=\"dataframe\">\n",
       "  <thead>\n",
       "    <tr style=\"text-align: right;\">\n",
       "      <th></th>\n",
       "      <th>id</th>\n",
       "      <th>description</th>\n",
       "      <th>tag</th>\n",
       "      <th>eval</th>\n",
       "    </tr>\n",
       "  </thead>\n",
       "  <tbody>\n",
       "    <tr>\n",
       "      <th>57</th>\n",
       "      <td>66858</td>\n",
       "      <td>La Région Occitanie est aux côtés des acteurs...</td>\n",
       "      <td>7_agricoles_agricole_agriculture_exploitations</td>\n",
       "      <td>1</td>\n",
       "    </tr>\n",
       "    <tr>\n",
       "      <th>58</th>\n",
       "      <td>46992</td>\n",
       "      <td>HDF Avenir Projets finance : Les projets inno...</td>\n",
       "      <td>1_entreprises_entreprise_innovation_export</td>\n",
       "      <td>1</td>\n",
       "    </tr>\n",
       "    <tr>\n",
       "      <th>59</th>\n",
       "      <td>60938</td>\n",
       "      <td>La BPI accompagne les entreprises en mettant ...</td>\n",
       "      <td>1_entreprises_entreprise_innovation_export</td>\n",
       "      <td>1</td>\n",
       "    </tr>\n",
       "    <tr>\n",
       "      <th>60</th>\n",
       "      <td>7995</td>\n",
       "      <td>Dépollution des industries et autres activi...</td>\n",
       "      <td>0_eau_milieux_gestion_aquatiques</td>\n",
       "      <td>0</td>\n",
       "    </tr>\n",
       "    <tr>\n",
       "      <th>61</th>\n",
       "      <td>74891</td>\n",
       "      <td>Aide « Installations de méthanisation (inje...</td>\n",
       "      <td>-1_titre_description_de_projet</td>\n",
       "      <td>0</td>\n",
       "    </tr>\n",
       "  </tbody>\n",
       "</table>\n",
       "</div>"
      ],
      "text/plain": [
       "       id                                        description  \\\n",
       "57  66858   La Région Occitanie est aux côtés des acteurs...   \n",
       "58  46992   HDF Avenir Projets finance : Les projets inno...   \n",
       "59  60938   La BPI accompagne les entreprises en mettant ...   \n",
       "60   7995     Dépollution des industries et autres activi...   \n",
       "61  74891     Aide « Installations de méthanisation (inje...   \n",
       "\n",
       "                                               tag eval  \n",
       "57  7_agricoles_agricole_agriculture_exploitations    1  \n",
       "58      1_entreprises_entreprise_innovation_export    1  \n",
       "59      1_entreprises_entreprise_innovation_export    1  \n",
       "60                0_eau_milieux_gestion_aquatiques    0  \n",
       "61                  -1_titre_description_de_projet    0  "
      ]
     },
     "execution_count": 36,
     "metadata": {},
     "output_type": "execute_result"
    }
   ],
   "source": [
    "tags_df = tags_df.iloc[1:]\n",
    "tags_df.head()"
   ]
  },
  {
   "cell_type": "code",
   "execution_count": 37,
   "metadata": {
    "collapsed": true
   },
   "outputs": [],
   "source": [
    "#tags_df.to_csv(\"tag_bert_eval_Alice.csv\")"
   ]
  },
  {
   "cell_type": "code",
   "execution_count": 2,
   "metadata": {
    "collapsed": true
   },
   "outputs": [],
   "source": [
    "human_eval = tags_df = pd.read_csv(\"human_eval_BERTtopic.csv\")"
   ]
  },
  {
   "cell_type": "code",
   "execution_count": 4,
   "metadata": {
    "collapsed": false
   },
   "outputs": [],
   "source": [
    "human_eval.drop(labels=['Unnamed: 0', 'Comparaison', 'Unnamed: 7'], axis=1, inplace=True)"
   ]
  },
  {
   "cell_type": "code",
   "execution_count": 5,
   "metadata": {
    "collapsed": true
   },
   "outputs": [],
   "source": [
    "human_eval.rename(columns={'Unnamed: 6': 'label'}, inplace=True)"
   ]
  },
  {
   "cell_type": "code",
   "execution_count": 6,
   "metadata": {
    "collapsed": false
   },
   "outputs": [
    {
     "data": {
      "text/html": [
       "<div>\n",
       "<table border=\"1\" class=\"dataframe\">\n",
       "  <thead>\n",
       "    <tr style=\"text-align: right;\">\n",
       "      <th></th>\n",
       "      <th>id</th>\n",
       "      <th>description</th>\n",
       "      <th>tag</th>\n",
       "      <th>Annotation manuelle</th>\n",
       "      <th>label</th>\n",
       "    </tr>\n",
       "  </thead>\n",
       "  <tbody>\n",
       "    <tr>\n",
       "      <th>0</th>\n",
       "      <td>95066</td>\n",
       "      <td>Objectifs :contribuer à l'atteinte des objecti...</td>\n",
       "      <td>2_énergie_énergétique_chaleur_énergies</td>\n",
       "      <td>2_énergie_énergétique_chaleur_énergies</td>\n",
       "      <td>1</td>\n",
       "    </tr>\n",
       "    <tr>\n",
       "      <th>1</th>\n",
       "      <td>103448</td>\n",
       "      <td>&lt;img alt=\"Budget participatif écologique de la...</td>\n",
       "      <td>2_énergie_énergétique_chaleur_énergies</td>\n",
       "      <td>2_énergie_énergétique_chaleur_énergies</td>\n",
       "      <td>1</td>\n",
       "    </tr>\n",
       "    <tr>\n",
       "      <th>2</th>\n",
       "      <td>60904</td>\n",
       "      <td>La BPI investit dans des PME et ETI performant...</td>\n",
       "      <td>1_entreprises_entreprise_innovation_export</td>\n",
       "      <td>1_entreprises_entreprise_innovation_export</td>\n",
       "      <td>1</td>\n",
       "    </tr>\n",
       "    <tr>\n",
       "      <th>3</th>\n",
       "      <td>89215</td>\n",
       "      <td>La formation-développement est une méthode d'a...</td>\n",
       "      <td>17_territoires_développement_territoire_projets</td>\n",
       "      <td>17_territoires_développement_territoire_projets</td>\n",
       "      <td>1</td>\n",
       "    </tr>\n",
       "    <tr>\n",
       "      <th>4</th>\n",
       "      <td>71378</td>\n",
       "      <td>Le conseil en mobilité pour l'insertion s'affi...</td>\n",
       "      <td>11_mobilité_vélo_cyclables_réseau</td>\n",
       "      <td>11_mobilité_vélo_cyclables_réseau</td>\n",
       "      <td>1</td>\n",
       "    </tr>\n",
       "  </tbody>\n",
       "</table>\n",
       "</div>"
      ],
      "text/plain": [
       "       id                                        description  \\\n",
       "0   95066  Objectifs :contribuer à l'atteinte des objecti...   \n",
       "1  103448  <img alt=\"Budget participatif écologique de la...   \n",
       "2   60904  La BPI investit dans des PME et ETI performant...   \n",
       "3   89215  La formation-développement est une méthode d'a...   \n",
       "4   71378  Le conseil en mobilité pour l'insertion s'affi...   \n",
       "\n",
       "                                               tag  \\\n",
       "0           2_énergie_énergétique_chaleur_énergies   \n",
       "1           2_énergie_énergétique_chaleur_énergies   \n",
       "2       1_entreprises_entreprise_innovation_export   \n",
       "3  17_territoires_développement_territoire_projets   \n",
       "4                11_mobilité_vélo_cyclables_réseau   \n",
       "\n",
       "                               Annotation manuelle label  \n",
       "0           2_énergie_énergétique_chaleur_énergies     1  \n",
       "1           2_énergie_énergétique_chaleur_énergies     1  \n",
       "2       1_entreprises_entreprise_innovation_export     1  \n",
       "3  17_territoires_développement_territoire_projets     1  \n",
       "4                11_mobilité_vélo_cyclables_réseau     1  "
      ]
     },
     "execution_count": 6,
     "metadata": {},
     "output_type": "execute_result"
    }
   ],
   "source": [
    "human_eval.head()"
   ]
  },
  {
   "cell_type": "code",
   "execution_count": 7,
   "metadata": {
    "collapsed": true
   },
   "outputs": [],
   "source": [
    "human_eval[\"zero_shot_score\"] = [0.] * len(human_eval)"
   ]
  },
  {
   "cell_type": "code",
   "execution_count": 8,
   "metadata": {
    "collapsed": true
   },
   "outputs": [],
   "source": [
    "def get_topic_name(topic):\n",
    "    topic = re.sub(r'\\d+', '', topic)\n",
    "    topic = topic.replace(\"_\", \" \")\n",
    "    #topic = topic.replace(\"-\", \"\")\n",
    "    return topic"
   ]
  },
  {
   "cell_type": "code",
   "execution_count": 9,
   "metadata": {
    "collapsed": true
   },
   "outputs": [],
   "source": [
    "human_eval[\"clean_tag\"] = human_eval[\"tag\"].apply(lambda t: get_topic_name(t))"
   ]
  },
  {
   "cell_type": "code",
   "execution_count": 17,
   "metadata": {
    "collapsed": false
   },
   "outputs": [
    {
     "name": "stdout",
     "output_type": "stream",
     "text": [
      "Traceback (most recent call last):\r\n",
      "  File \"/home/alice/anaconda3/bin/conda\", line 6, in <module>\r\n",
      "    sys.exit(conda.cli.main())\r\n",
      "  File \"/home/alice/anaconda3/lib/python3.6/site-packages/conda/cli/main.py\", line 164, in main\r\n",
      "    raise CommandNotFoundError(argv1, message)\r\n",
      "conda.exceptions.CommandNotFoundError: Command Error: error with command 'activate'. Command not found: 'activate'. 'activate' is not a conda command.\r\n",
      " Did you mean \"source activate rl-nlp\" ?\r\n",
      " activate 'activate' is not a conda command.\r\n",
      " Did you mean \"source activate rl-nlp\" ?\r\n",
      "\r\n"
     ]
    }
   ],
   "source": [
    "!conda activate rl-nlp"
   ]
  },
  {
   "cell_type": "code",
   "execution_count": 16,
   "metadata": {
    "collapsed": false
   },
   "outputs": [
    {
     "ename": "ModuleNotFoundError",
     "evalue": "No module named 'transformers'",
     "output_type": "error",
     "traceback": [
      "\u001b[0;31m---------------------------------------------------------------------------\u001b[0m",
      "\u001b[0;31mModuleNotFoundError\u001b[0m                       Traceback (most recent call last)",
      "\u001b[0;32m<ipython-input-16-a3a724071a5c>\u001b[0m in \u001b[0;36m<module>\u001b[0;34m()\u001b[0m\n\u001b[1;32m      1\u001b[0m \u001b[0;31m#from bertopic import BERTopic  # BERTopic for topic modeling\u001b[0m\u001b[0;34m\u001b[0m\u001b[0;34m\u001b[0m\u001b[0m\n\u001b[0;32m----> 2\u001b[0;31m \u001b[0;32mfrom\u001b[0m \u001b[0mtransformers\u001b[0m \u001b[0;32mimport\u001b[0m \u001b[0mpipeline\u001b[0m\u001b[0;34m\u001b[0m\u001b[0m\n\u001b[0m",
      "\u001b[0;31mModuleNotFoundError\u001b[0m: No module named 'transformers'"
     ]
    }
   ],
   "source": [
    "#from bertopic import BERTopic  # BERTopic for topic modeling\n",
    "from transformers import pipeline"
   ]
  },
  {
   "cell_type": "code",
   "execution_count": null,
   "metadata": {
    "collapsed": true
   },
   "outputs": [],
   "source": [
    "# Load 0-shot classifier\n",
    "classifier = pipeline(\"zero-shot-classification\", model=\"BaptisteDoyen/camembert-base-xnli\")"
   ]
  },
  {
   "cell_type": "code",
   "execution_count": null,
   "metadata": {
    "collapsed": true
   },
   "outputs": [],
   "source": [
    " # use zero-shot text classification on each couple (doc, topic_name)\n",
    "hypothesis_template = \"Ce texte est {}.\"\n",
    "for index in list(human_eval.index):\n",
    "    results = classifier(human_eval.loc[index][\"description\"], human_eval.loc[index][\"clean_tag\"], hypothesis_template=hypothesis_template)\n",
    "    human_eval.at[index, \"zero_shot_score\"] = results[\"scores\"][0]\n",
    "    print(\"done\")"
   ]
  }
 ],
 "metadata": {
  "kernelspec": {
   "display_name": "Python 3",
   "language": "python",
   "name": "python3"
  },
  "language_info": {
   "codemirror_mode": {
    "name": "ipython",
    "version": 3
   },
   "file_extension": ".py",
   "mimetype": "text/x-python",
   "name": "python",
   "nbconvert_exporter": "python",
   "pygments_lexer": "ipython3",
   "version": "3.6.0"
  }
 },
 "nbformat": 4,
 "nbformat_minor": 2
}

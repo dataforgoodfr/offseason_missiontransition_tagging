{
 "cells": [
  {
   "cell_type": "code",
   "execution_count": 79,
   "metadata": {
    "collapsed": true
   },
   "outputs": [],
   "source": [
    "import pandas as pd\n",
    "import numpy as np"
   ]
  },
  {
   "cell_type": "code",
   "execution_count": 80,
   "metadata": {
    "collapsed": false
   },
   "outputs": [],
   "source": [
    "results = pd.read_csv(\"eval_BERTtopic_human+zeroshot.csv\")"
   ]
  },
  {
   "cell_type": "code",
   "execution_count": 81,
   "metadata": {
    "collapsed": false
   },
   "outputs": [
    {
     "data": {
      "text/html": [
       "<div>\n",
       "<table border=\"1\" class=\"dataframe\">\n",
       "  <thead>\n",
       "    <tr style=\"text-align: right;\">\n",
       "      <th></th>\n",
       "      <th>Unnamed: 0</th>\n",
       "      <th>id</th>\n",
       "      <th>description</th>\n",
       "      <th>tag</th>\n",
       "      <th>Annotation manuelle</th>\n",
       "      <th>label</th>\n",
       "      <th>zero_shot_score</th>\n",
       "      <th>clean_tag</th>\n",
       "      <th>zero_shot_label</th>\n",
       "    </tr>\n",
       "  </thead>\n",
       "  <tbody>\n",
       "    <tr>\n",
       "      <th>0</th>\n",
       "      <td>0</td>\n",
       "      <td>95066</td>\n",
       "      <td>Objectifs :contribuer à l'atteinte des objecti...</td>\n",
       "      <td>2_énergie_énergétique_chaleur_énergies</td>\n",
       "      <td>2_énergie_énergétique_chaleur_énergies</td>\n",
       "      <td>1</td>\n",
       "      <td>0.575893</td>\n",
       "      <td>énergie énergétique chaleur énergies</td>\n",
       "      <td>0.5</td>\n",
       "    </tr>\n",
       "    <tr>\n",
       "      <th>1</th>\n",
       "      <td>1</td>\n",
       "      <td>103448</td>\n",
       "      <td>&lt;img alt=\"Budget participatif écologique de la...</td>\n",
       "      <td>2_énergie_énergétique_chaleur_énergies</td>\n",
       "      <td>2_énergie_énergétique_chaleur_énergies</td>\n",
       "      <td>1</td>\n",
       "      <td>0.556664</td>\n",
       "      <td>énergie énergétique chaleur énergies</td>\n",
       "      <td>0.5</td>\n",
       "    </tr>\n",
       "    <tr>\n",
       "      <th>2</th>\n",
       "      <td>2</td>\n",
       "      <td>60904</td>\n",
       "      <td>La BPI investit dans des PME et ETI performant...</td>\n",
       "      <td>1_entreprises_entreprise_innovation_export</td>\n",
       "      <td>1_entreprises_entreprise_innovation_export</td>\n",
       "      <td>1</td>\n",
       "      <td>0.023275</td>\n",
       "      <td>entreprises entreprise innovation export</td>\n",
       "      <td>0.0</td>\n",
       "    </tr>\n",
       "    <tr>\n",
       "      <th>3</th>\n",
       "      <td>3</td>\n",
       "      <td>89215</td>\n",
       "      <td>La formation-développement est une méthode d'a...</td>\n",
       "      <td>17_territoires_développement_territoire_projets</td>\n",
       "      <td>17_territoires_développement_territoire_projets</td>\n",
       "      <td>1</td>\n",
       "      <td>0.444700</td>\n",
       "      <td>territoires développement territoire projets</td>\n",
       "      <td>0.5</td>\n",
       "    </tr>\n",
       "    <tr>\n",
       "      <th>4</th>\n",
       "      <td>4</td>\n",
       "      <td>71378</td>\n",
       "      <td>Le conseil en mobilité pour l'insertion s'affi...</td>\n",
       "      <td>11_mobilité_vélo_cyclables_réseau</td>\n",
       "      <td>11_mobilité_vélo_cyclables_réseau</td>\n",
       "      <td>1</td>\n",
       "      <td>0.154063</td>\n",
       "      <td>mobilité vélo cyclables réseau</td>\n",
       "      <td>0.0</td>\n",
       "    </tr>\n",
       "  </tbody>\n",
       "</table>\n",
       "</div>"
      ],
      "text/plain": [
       "   Unnamed: 0      id                                        description  \\\n",
       "0           0   95066  Objectifs :contribuer à l'atteinte des objecti...   \n",
       "1           1  103448  <img alt=\"Budget participatif écologique de la...   \n",
       "2           2   60904  La BPI investit dans des PME et ETI performant...   \n",
       "3           3   89215  La formation-développement est une méthode d'a...   \n",
       "4           4   71378  Le conseil en mobilité pour l'insertion s'affi...   \n",
       "\n",
       "                                               tag  \\\n",
       "0           2_énergie_énergétique_chaleur_énergies   \n",
       "1           2_énergie_énergétique_chaleur_énergies   \n",
       "2       1_entreprises_entreprise_innovation_export   \n",
       "3  17_territoires_développement_territoire_projets   \n",
       "4                11_mobilité_vélo_cyclables_réseau   \n",
       "\n",
       "                               Annotation manuelle label  zero_shot_score  \\\n",
       "0           2_énergie_énergétique_chaleur_énergies     1         0.575893   \n",
       "1           2_énergie_énergétique_chaleur_énergies     1         0.556664   \n",
       "2       1_entreprises_entreprise_innovation_export     1         0.023275   \n",
       "3  17_territoires_développement_territoire_projets     1         0.444700   \n",
       "4                11_mobilité_vélo_cyclables_réseau     1         0.154063   \n",
       "\n",
       "                                      clean_tag  zero_shot_label  \n",
       "0          énergie énergétique chaleur énergies              0.5  \n",
       "1          énergie énergétique chaleur énergies              0.5  \n",
       "2      entreprises entreprise innovation export              0.0  \n",
       "3  territoires développement territoire projets              0.5  \n",
       "4                mobilité vélo cyclables réseau              0.0  "
      ]
     },
     "execution_count": 81,
     "metadata": {},
     "output_type": "execute_result"
    }
   ],
   "source": [
    "results.head()"
   ]
  },
  {
   "cell_type": "code",
   "execution_count": 82,
   "metadata": {
    "collapsed": true
   },
   "outputs": [],
   "source": [
    "results.drop(labels=['Unnamed: 0'], axis=1, inplace=True)"
   ]
  },
  {
   "cell_type": "code",
   "execution_count": 83,
   "metadata": {
    "collapsed": false
   },
   "outputs": [],
   "source": [
    "results[\"label\"] = results[\"label\"].apply(lambda x: x.replace(',', '.'))"
   ]
  },
  {
   "cell_type": "code",
   "execution_count": 84,
   "metadata": {
    "collapsed": false
   },
   "outputs": [],
   "source": [
    "results = results.astype({'label': 'float64'})"
   ]
  },
  {
   "cell_type": "code",
   "execution_count": 85,
   "metadata": {
    "collapsed": false
   },
   "outputs": [
    {
     "data": {
      "text/plain": [
       "id                       int64\n",
       "description             object\n",
       "tag                     object\n",
       "Annotation manuelle     object\n",
       "label                  float64\n",
       "zero_shot_score        float64\n",
       "clean_tag               object\n",
       "zero_shot_label        float64\n",
       "dtype: object"
      ]
     },
     "execution_count": 85,
     "metadata": {},
     "output_type": "execute_result"
    }
   ],
   "source": [
    "results.dtypes"
   ]
  },
  {
   "cell_type": "code",
   "execution_count": 86,
   "metadata": {
    "collapsed": false
   },
   "outputs": [],
   "source": [
    "comparison = results[\"zero_shot_label\"] == results[\"label\"]"
   ]
  },
  {
   "cell_type": "code",
   "execution_count": 87,
   "metadata": {
    "collapsed": false
   },
   "outputs": [
    {
     "data": {
      "text/plain": [
       "28"
      ]
     },
     "execution_count": 87,
     "metadata": {},
     "output_type": "execute_result"
    }
   ],
   "source": [
    "np.sum(comparison)"
   ]
  },
  {
   "cell_type": "code",
   "execution_count": 88,
   "metadata": {
    "collapsed": false
   },
   "outputs": [
    {
     "name": "stdout",
     "output_type": "stream",
     "text": [
      "accuracy 0.23529411764705882\n"
     ]
    }
   ],
   "source": [
    "acc = np.sum(comparison) / len(comparison)\n",
    "print(\"accuracy\", acc)"
   ]
  },
  {
   "cell_type": "code",
   "execution_count": 89,
   "metadata": {
    "collapsed": false
   },
   "outputs": [
    {
     "data": {
      "text/plain": [
       "1.0    55\n",
       "0.0    42\n",
       "0.5    22\n",
       "Name: label, dtype: int64"
      ]
     },
     "execution_count": 89,
     "metadata": {},
     "output_type": "execute_result"
    }
   ],
   "source": [
    "stats_label = results[\"label\"].value_counts()\n",
    "stats_label"
   ]
  },
  {
   "cell_type": "code",
   "execution_count": 90,
   "metadata": {
    "collapsed": false
   },
   "outputs": [
    {
     "data": {
      "text/plain": [
       "0.46218487394957986"
      ]
     },
     "execution_count": 90,
     "metadata": {},
     "output_type": "execute_result"
    }
   ],
   "source": [
    "55/119"
   ]
  },
  {
   "cell_type": "code",
   "execution_count": 91,
   "metadata": {
    "collapsed": false
   },
   "outputs": [
    {
     "data": {
      "text/plain": [
       "0.18487394957983194"
      ]
     },
     "execution_count": 91,
     "metadata": {},
     "output_type": "execute_result"
    }
   ],
   "source": [
    "22/119"
   ]
  },
  {
   "cell_type": "code",
   "execution_count": 92,
   "metadata": {
    "collapsed": false
   },
   "outputs": [
    {
     "data": {
      "text/plain": [
       "0.35294117647058826"
      ]
     },
     "execution_count": 92,
     "metadata": {},
     "output_type": "execute_result"
    }
   ],
   "source": [
    "42/119"
   ]
  },
  {
   "cell_type": "code",
   "execution_count": 93,
   "metadata": {
    "collapsed": false
   },
   "outputs": [
    {
     "data": {
      "text/plain": [
       "array(['-1_titre_description_de_projet',\n",
       "       '0_eau_milieux_gestion_aquatiques',\n",
       "       '10_numérique_numériques_services_agents',\n",
       "       '11_mobilité_vélo_cyclables_réseau',\n",
       "       '12_déchets_biodéchets_études_réemploi',\n",
       "       '14_villes_bourgs_communes_projets',\n",
       "       '16_véhicules_véhicule_hydrogène_stations',\n",
       "       '17_territoires_développement_territoire_projets',\n",
       "       '1_entreprises_entreprise_innovation_export',\n",
       "       '22_bois_forêt_forestière_peupliers',\n",
       "       '23_urbanisme_caue_oeuvre_aménagement', '27_leader_loup_pic_saint',\n",
       "       '2_énergie_énergétique_chaleur_énergies',\n",
       "       '5__________________________________________________________________________décrits_emportent_respectent',\n",
       "       '5_décrits_emportent_respectent',\n",
       "       '6_biodiversité_naturels_milieux_gestion',\n",
       "       '7_agricoles_agricole_agriculture_exploitations',\n",
       "       '8_touristique_tourisme_touristiques_offre'], dtype=object)"
      ]
     },
     "execution_count": 93,
     "metadata": {},
     "output_type": "execute_result"
    }
   ],
   "source": [
    "np.unique(results[\"tag\"])"
   ]
  },
  {
   "cell_type": "code",
   "execution_count": 94,
   "metadata": {
    "collapsed": false
   },
   "outputs": [
    {
     "name": "stdout",
     "output_type": "stream",
     "text": [
      "30\n"
     ]
    }
   ],
   "source": [
    "gen_tag = results[results[\"tag\"] == '-1_titre_description_de_projet']\n",
    "print(len(gen_tag))"
   ]
  },
  {
   "cell_type": "code",
   "execution_count": 95,
   "metadata": {
    "collapsed": false
   },
   "outputs": [
    {
     "name": "stdout",
     "output_type": "stream",
     "text": [
      "30\n"
     ]
    }
   ],
   "source": [
    "gen_tags_score0 = gen_tag[gen_tag[\"label\"] == 0]\n",
    "print(len(gen_tags_score0))"
   ]
  },
  {
   "cell_type": "code",
   "execution_count": 96,
   "metadata": {
    "collapsed": false
   },
   "outputs": [
    {
     "name": "stdout",
     "output_type": "stream",
     "text": [
      "42\n"
     ]
    }
   ],
   "source": [
    "score_0 = results[results[\"label\"] == 0]\n",
    "print(len(score_0))"
   ]
  },
  {
   "cell_type": "code",
   "execution_count": 97,
   "metadata": {
    "collapsed": false
   },
   "outputs": [
    {
     "data": {
      "text/plain": [
       "-1_titre_description_de_projet                                                                             30\n",
       "0_eau_milieux_gestion_aquatiques                                                                            3\n",
       "27_leader_loup_pic_saint                                                                                    2\n",
       "2_énergie_énergétique_chaleur_énergies                                                                      2\n",
       "5__________________________________________________________________________décrits_emportent_respectent     2\n",
       "11_mobilité_vélo_cyclables_réseau                                                                           1\n",
       "5_décrits_emportent_respectent                                                                              1\n",
       "12_déchets_biodéchets_études_réemploi                                                                       1\n",
       "Name: tag, dtype: int64"
      ]
     },
     "execution_count": 97,
     "metadata": {},
     "output_type": "execute_result"
    }
   ],
   "source": [
    "score_0['tag'].value_counts()"
   ]
  },
  {
   "cell_type": "code",
   "execution_count": 98,
   "metadata": {
    "collapsed": false
   },
   "outputs": [],
   "source": [
    "score0_nogen = score_0[score_0[\"tag\"]!='-1_titre_description_de_projet']"
   ]
  },
  {
   "cell_type": "code",
   "execution_count": 99,
   "metadata": {
    "collapsed": false
   },
   "outputs": [
    {
     "data": {
      "text/plain": [
       "0.7142857142857143"
      ]
     },
     "execution_count": 99,
     "metadata": {},
     "output_type": "execute_result"
    }
   ],
   "source": [
    "30/42"
   ]
  },
  {
   "cell_type": "code",
   "execution_count": 100,
   "metadata": {
    "collapsed": true
   },
   "outputs": [],
   "source": [
    "train_topics = pd.read_csv('../bertopics_True/bertopics/train_topics.csv')"
   ]
  },
  {
   "cell_type": "code",
   "execution_count": 101,
   "metadata": {
    "collapsed": false
   },
   "outputs": [
    {
     "data": {
      "text/html": [
       "<div>\n",
       "<table border=\"1\" class=\"dataframe\">\n",
       "  <thead>\n",
       "    <tr style=\"text-align: right;\">\n",
       "      <th></th>\n",
       "      <th>Unnamed: 0</th>\n",
       "      <th>Topic</th>\n",
       "      <th>Count</th>\n",
       "      <th>Name</th>\n",
       "    </tr>\n",
       "  </thead>\n",
       "  <tbody>\n",
       "    <tr>\n",
       "      <th>0</th>\n",
       "      <td>0</td>\n",
       "      <td>-1</td>\n",
       "      <td>298</td>\n",
       "      <td>-1_titre_description_projets_projet</td>\n",
       "    </tr>\n",
       "    <tr>\n",
       "      <th>1</th>\n",
       "      <td>1</td>\n",
       "      <td>0</td>\n",
       "      <td>241</td>\n",
       "      <td>0_eau_milieux_gestion_aquatiques</td>\n",
       "    </tr>\n",
       "    <tr>\n",
       "      <th>2</th>\n",
       "      <td>2</td>\n",
       "      <td>1</td>\n",
       "      <td>165</td>\n",
       "      <td>1_entreprises_entreprise_innovation_export</td>\n",
       "    </tr>\n",
       "    <tr>\n",
       "      <th>3</th>\n",
       "      <td>3</td>\n",
       "      <td>2</td>\n",
       "      <td>149</td>\n",
       "      <td>2_énergie_énergétique_chaleur_énergies</td>\n",
       "    </tr>\n",
       "    <tr>\n",
       "      <th>4</th>\n",
       "      <td>4</td>\n",
       "      <td>3</td>\n",
       "      <td>88</td>\n",
       "      <td>3_artistique_culturelle_artistiques_diffusion</td>\n",
       "    </tr>\n",
       "  </tbody>\n",
       "</table>\n",
       "</div>"
      ],
      "text/plain": [
       "   Unnamed: 0  Topic  Count                                           Name\n",
       "0           0     -1    298            -1_titre_description_projets_projet\n",
       "1           1      0    241               0_eau_milieux_gestion_aquatiques\n",
       "2           2      1    165     1_entreprises_entreprise_innovation_export\n",
       "3           3      2    149         2_énergie_énergétique_chaleur_énergies\n",
       "4           4      3     88  3_artistique_culturelle_artistiques_diffusion"
      ]
     },
     "execution_count": 101,
     "metadata": {},
     "output_type": "execute_result"
    }
   ],
   "source": [
    "train_topics.head()"
   ]
  },
  {
   "cell_type": "code",
   "execution_count": 102,
   "metadata": {
    "collapsed": false
   },
   "outputs": [
    {
     "name": "stdout",
     "output_type": "stream",
     "text": [
      "['-1_titre_description_projets_projet' '0_eau_milieux_gestion_aquatiques'\n",
      " '10_mobilité_vélo_cyclables_réseau'\n",
      " '11_numérique_numériques_services_agents'\n",
      " '12_déchets_biodéchets_études_réemploi'\n",
      " '13_santé_professionnels_région_médecine'\n",
      " '14_logements_habitat_logement_opération'\n",
      " '15_livre_bibliothèques_lecture_auteurs'\n",
      " '16_foncier_bourgs_villes_communes'\n",
      " '17_territoires_territoire_développement_urbanisme'\n",
      " '18_véhicules_véhicule_hydrogène_stations'\n",
      " '19_jeunes_scolaire_lycéens_jeunesse'\n",
      " '1_entreprises_entreprise_innovation_export'\n",
      " '20_emploi_formation_compétences_professionnelle'\n",
      " '21_bois_peupliers_forêt_forestière' '22_enfants_accueil_enfance_parents'\n",
      " '23_urbanisme_caue_aménagement_architecture'\n",
      " '24_stage_mobilité_étranger_jeunes'\n",
      " '25_formation_formations_supérieur_enseignement'\n",
      " '26_langue_française_français_ministère'\n",
      " '27_sécurité_routière_subventionnable_police'\n",
      " '28_résidences_jeunes_pension_travailleurs'\n",
      " '2_énergie_énergétique_chaleur_énergies'\n",
      " '3_artistique_culturelle_artistiques_diffusion'\n",
      " '4_patrimoine_restauration_valorisation_édifices'\n",
      " '5_décrits_prêt_emportent' '6_biodiversité_naturels_milieux_gestion'\n",
      " '7_agricoles_agricole_agriculture_exploitations'\n",
      " '8_sportifs_sport_pratique_sportive'\n",
      " '9_touristique_tourisme_touristiques_offre']\n"
     ]
    }
   ],
   "source": [
    "train_topics[\"Name\"] = train_topics[\"Name\"].apply(lambda t: t.replace('__', ''))\n",
    "train_topics[\"Name\"] = train_topics[\"Name\"].apply(lambda t: t.replace('5décrits', '5_décrits'))\n",
    "print(np.unique(train_topics[\"Name\"]))"
   ]
  },
  {
   "cell_type": "code",
   "execution_count": 103,
   "metadata": {
    "collapsed": true
   },
   "outputs": [],
   "source": [
    "import matplotlib.pyplot as plt"
   ]
  },
  {
   "cell_type": "code",
   "execution_count": 104,
   "metadata": {
    "collapsed": false
   },
   "outputs": [
    {
     "name": "stderr",
     "output_type": "stream",
     "text": [
      "No handles with labels found to put in legend.\n"
     ]
    }
   ],
   "source": [
    "fig, ax = plt.subplots(1, 1, figsize=(75, 20))\n",
    "#ax.bar(range(len(train_topics)), train_topics[\"Count\"], tick_label=train_topics[\"Name\"])\n",
    "barlist = ax.bar(train_topics[\"Name\"], train_topics[\"Count\"])\n",
    "#ax.xticks(rotation=45)\n",
    "ax.tick_params(axis='x', labelsize=36, labelrotation=90)\n",
    "ax.tick_params(\n",
    "        axis='y',  # changes apply to the x-axis\n",
    "        labelleft=False)\n",
    "barlist[0].set_color('r')\n",
    "rects = ax.patches\n",
    "labels = [rect.get_height() for rect in rects]\n",
    "for rect, label in zip(rects, labels):\n",
    "    height = rect.get_height()\n",
    "    ax.text(rect.get_x() + rect.get_width() / 2, height + 0.01, label,\n",
    "                ha='center', va='bottom', fontsize=36)\n",
    "ax.legend(fontsize='large')\n",
    "fig.savefig(\"AT_traintopics_hist.png\", format='png', bbox_inches=\"tight\")"
   ]
  },
  {
   "cell_type": "code",
   "execution_count": 105,
   "metadata": {
    "collapsed": false
   },
   "outputs": [],
   "source": [
    "mt_train_topics = pd.read_csv('../bertopics_True/bertopics/MT_train_topics.csv')"
   ]
  },
  {
   "cell_type": "code",
   "execution_count": 106,
   "metadata": {
    "collapsed": false
   },
   "outputs": [
    {
     "data": {
      "text/plain": [
       "Index(['Topic', 'Count', 'Name'], dtype='object')"
      ]
     },
     "execution_count": 106,
     "metadata": {},
     "output_type": "execute_result"
    }
   ],
   "source": [
    "mt_train_topics.columns"
   ]
  },
  {
   "cell_type": "code",
   "execution_count": 107,
   "metadata": {
    "collapsed": false
   },
   "outputs": [
    {
     "data": {
      "text/plain": [
       "Topic     int64\n",
       "Count     int64\n",
       "Name     object\n",
       "dtype: object"
      ]
     },
     "execution_count": 107,
     "metadata": {},
     "output_type": "execute_result"
    }
   ],
   "source": [
    "mt_train_topics.dtypes"
   ]
  },
  {
   "cell_type": "code",
   "execution_count": 108,
   "metadata": {
    "collapsed": false
   },
   "outputs": [
    {
     "data": {
      "text/html": [
       "<div>\n",
       "<table border=\"1\" class=\"dataframe\">\n",
       "  <thead>\n",
       "    <tr style=\"text-align: right;\">\n",
       "      <th></th>\n",
       "      <th>Topic</th>\n",
       "      <th>Count</th>\n",
       "      <th>Name</th>\n",
       "    </tr>\n",
       "  </thead>\n",
       "  <tbody>\n",
       "    <tr>\n",
       "      <th>3</th>\n",
       "      <td>2</td>\n",
       "      <td>75</td>\n",
       "      <td>2_énergie_énergétique_chaleur_énergies</td>\n",
       "    </tr>\n",
       "    <tr>\n",
       "      <th>0</th>\n",
       "      <td>-1</td>\n",
       "      <td>56</td>\n",
       "      <td>-1_titre_description_projets_projet</td>\n",
       "    </tr>\n",
       "    <tr>\n",
       "      <th>1</th>\n",
       "      <td>0</td>\n",
       "      <td>42</td>\n",
       "      <td>0_eau_milieux_gestion_aquatiques</td>\n",
       "    </tr>\n",
       "    <tr>\n",
       "      <th>2</th>\n",
       "      <td>1</td>\n",
       "      <td>41</td>\n",
       "      <td>1_entreprises_entreprise_innovation_export</td>\n",
       "    </tr>\n",
       "    <tr>\n",
       "      <th>11</th>\n",
       "      <td>12</td>\n",
       "      <td>22</td>\n",
       "      <td>12_déchets_biodéchets_études_réemploi</td>\n",
       "    </tr>\n",
       "  </tbody>\n",
       "</table>\n",
       "</div>"
      ],
      "text/plain": [
       "    Topic  Count                                        Name\n",
       "3       2     75      2_énergie_énergétique_chaleur_énergies\n",
       "0      -1     56         -1_titre_description_projets_projet\n",
       "1       0     42            0_eau_milieux_gestion_aquatiques\n",
       "2       1     41  1_entreprises_entreprise_innovation_export\n",
       "11     12     22       12_déchets_biodéchets_études_réemploi"
      ]
     },
     "execution_count": 108,
     "metadata": {},
     "output_type": "execute_result"
    }
   ],
   "source": [
    "mt_train_topics = mt_train_topics.sort_values(by=['Count'], axis=0, ascending=False)\n",
    "mt_train_topics.head()"
   ]
  },
  {
   "cell_type": "code",
   "execution_count": 109,
   "metadata": {
    "collapsed": false
   },
   "outputs": [
    {
     "data": {
      "text/html": [
       "<div>\n",
       "<table border=\"1\" class=\"dataframe\">\n",
       "  <thead>\n",
       "    <tr style=\"text-align: right;\">\n",
       "      <th></th>\n",
       "      <th>Topic</th>\n",
       "      <th>Count</th>\n",
       "      <th>Name</th>\n",
       "    </tr>\n",
       "  </thead>\n",
       "  <tbody>\n",
       "    <tr>\n",
       "      <th>3</th>\n",
       "      <td>2</td>\n",
       "      <td>75</td>\n",
       "      <td>2_énergie_énergétique_chaleur_énergies</td>\n",
       "    </tr>\n",
       "    <tr>\n",
       "      <th>0</th>\n",
       "      <td>-1</td>\n",
       "      <td>56</td>\n",
       "      <td>-1_titre_description_projets_projet</td>\n",
       "    </tr>\n",
       "    <tr>\n",
       "      <th>1</th>\n",
       "      <td>0</td>\n",
       "      <td>42</td>\n",
       "      <td>0_eau_milieux_gestion_aquatiques</td>\n",
       "    </tr>\n",
       "    <tr>\n",
       "      <th>2</th>\n",
       "      <td>1</td>\n",
       "      <td>41</td>\n",
       "      <td>1_entreprises_entreprise_innovation_export</td>\n",
       "    </tr>\n",
       "    <tr>\n",
       "      <th>11</th>\n",
       "      <td>12</td>\n",
       "      <td>22</td>\n",
       "      <td>12_déchets_biodéchets_études_réemploi</td>\n",
       "    </tr>\n",
       "    <tr>\n",
       "      <th>16</th>\n",
       "      <td>18</td>\n",
       "      <td>18</td>\n",
       "      <td>18_véhicules_véhicule_hydrogène_stations</td>\n",
       "    </tr>\n",
       "    <tr>\n",
       "      <th>7</th>\n",
       "      <td>7</td>\n",
       "      <td>13</td>\n",
       "      <td>7_agricoles_agricole_agriculture_exploitations</td>\n",
       "    </tr>\n",
       "    <tr>\n",
       "      <th>9</th>\n",
       "      <td>10</td>\n",
       "      <td>13</td>\n",
       "      <td>10_mobilité_vélo_cyclables_réseau</td>\n",
       "    </tr>\n",
       "    <tr>\n",
       "      <th>6</th>\n",
       "      <td>6</td>\n",
       "      <td>13</td>\n",
       "      <td>6_biodiversité_naturels_milieux_gestion</td>\n",
       "    </tr>\n",
       "    <tr>\n",
       "      <th>5</th>\n",
       "      <td>5</td>\n",
       "      <td>7</td>\n",
       "      <td>5_décrits_prêt_emportent</td>\n",
       "    </tr>\n",
       "    <tr>\n",
       "      <th>17</th>\n",
       "      <td>21</td>\n",
       "      <td>7</td>\n",
       "      <td>21_bois_peupliers_forêt_forestière</td>\n",
       "    </tr>\n",
       "    <tr>\n",
       "      <th>4</th>\n",
       "      <td>4</td>\n",
       "      <td>5</td>\n",
       "      <td>4_patrimoine_restauration_valorisation_édifices</td>\n",
       "    </tr>\n",
       "    <tr>\n",
       "      <th>8</th>\n",
       "      <td>9</td>\n",
       "      <td>3</td>\n",
       "      <td>9_touristique_tourisme_touristiques_offre</td>\n",
       "    </tr>\n",
       "    <tr>\n",
       "      <th>15</th>\n",
       "      <td>17</td>\n",
       "      <td>3</td>\n",
       "      <td>17_territoires_territoire_développement_urbanisme</td>\n",
       "    </tr>\n",
       "    <tr>\n",
       "      <th>12</th>\n",
       "      <td>14</td>\n",
       "      <td>2</td>\n",
       "      <td>14_logements_habitat_logement_opération</td>\n",
       "    </tr>\n",
       "    <tr>\n",
       "      <th>14</th>\n",
       "      <td>16</td>\n",
       "      <td>2</td>\n",
       "      <td>16_foncier_bourgs_villes_communes</td>\n",
       "    </tr>\n",
       "    <tr>\n",
       "      <th>10</th>\n",
       "      <td>11</td>\n",
       "      <td>1</td>\n",
       "      <td>11_numérique_numériques_services_agents</td>\n",
       "    </tr>\n",
       "    <tr>\n",
       "      <th>13</th>\n",
       "      <td>15</td>\n",
       "      <td>1</td>\n",
       "      <td>15_livre_bibliothèques_lecture_auteurs</td>\n",
       "    </tr>\n",
       "    <tr>\n",
       "      <th>18</th>\n",
       "      <td>23</td>\n",
       "      <td>1</td>\n",
       "      <td>23_urbanisme_caue_aménagement_architecture</td>\n",
       "    </tr>\n",
       "  </tbody>\n",
       "</table>\n",
       "</div>"
      ],
      "text/plain": [
       "    Topic  Count                                               Name\n",
       "3       2     75             2_énergie_énergétique_chaleur_énergies\n",
       "0      -1     56                -1_titre_description_projets_projet\n",
       "1       0     42                   0_eau_milieux_gestion_aquatiques\n",
       "2       1     41         1_entreprises_entreprise_innovation_export\n",
       "11     12     22              12_déchets_biodéchets_études_réemploi\n",
       "16     18     18           18_véhicules_véhicule_hydrogène_stations\n",
       "7       7     13     7_agricoles_agricole_agriculture_exploitations\n",
       "9      10     13                  10_mobilité_vélo_cyclables_réseau\n",
       "6       6     13            6_biodiversité_naturels_milieux_gestion\n",
       "5       5      7                           5_décrits_prêt_emportent\n",
       "17     21      7                 21_bois_peupliers_forêt_forestière\n",
       "4       4      5    4_patrimoine_restauration_valorisation_édifices\n",
       "8       9      3          9_touristique_tourisme_touristiques_offre\n",
       "15     17      3  17_territoires_territoire_développement_urbanisme\n",
       "12     14      2            14_logements_habitat_logement_opération\n",
       "14     16      2                  16_foncier_bourgs_villes_communes\n",
       "10     11      1            11_numérique_numériques_services_agents\n",
       "13     15      1             15_livre_bibliothèques_lecture_auteurs\n",
       "18     23      1         23_urbanisme_caue_aménagement_architecture"
      ]
     },
     "execution_count": 109,
     "metadata": {},
     "output_type": "execute_result"
    }
   ],
   "source": [
    "mt_train_topics"
   ]
  },
  {
   "cell_type": "code",
   "execution_count": 110,
   "metadata": {
    "collapsed": false
   },
   "outputs": [],
   "source": [
    "fig, ax = plt.subplots(1, 1, figsize=(75, 20))\n",
    "#ax.bar(range(len(train_topics)), train_topics[\"Count\"], tick_label=train_topics[\"Name\"])\n",
    "barlist = ax.bar(mt_train_topics[\"Name\"], mt_train_topics[\"Count\"])\n",
    "#ax.xticks(rotation=45)\n",
    "#fontdict={\"weight\": \"bold\"}\n",
    "#ax.legend(prop=fontdict)\n",
    "ax.tick_params(axis='x', labelsize=36, labelrotation=90)\n",
    "ax.tick_params(\n",
    "        axis='y',  # changes apply to the x-axis\n",
    "        labelleft=False)\n",
    "barlist[1].set_color('r')\n",
    "rects = ax.patches\n",
    "labels = [rect.get_height() for rect in rects]\n",
    "for rect, label in zip(rects, labels):\n",
    "    height = rect.get_height()\n",
    "    ax.text(rect.get_x() + rect.get_width() / 2, height + 0.01, label,\n",
    "                ha='center', va='bottom', fontsize=36)\n",
    "fig.savefig(\"MT_traintopics_hist.png\", format='png', bbox_inches=\"tight\")"
   ]
  },
  {
   "cell_type": "code",
   "execution_count": 120,
   "metadata": {
    "collapsed": false
   },
   "outputs": [],
   "source": [
    "fig, ax = plt.subplots(1, 1, figsize=(75, 20))\n",
    "#ax.bar(range(len(train_topics)), train_topics[\"Count\"], tick_label=train_topics[\"Name\"])\n",
    "barlist1 = ax.bar(train_topics[\"Name\"], train_topics[\"Count\"], color='royalblue')\n",
    "#ax.xticks(rotation=45)\n",
    "ax.tick_params(axis='x', labelsize=40, labelrotation=90)\n",
    "ax.tick_params(\n",
    "        axis='y',  # changes apply to the x-axis\n",
    "        labelleft=False)\n",
    "#barlist1[0].set_color('r')\n",
    "rects = ax.patches\n",
    "labels = [rect.get_height() for rect in rects]\n",
    "for rect, label in zip(rects, labels):\n",
    "    height = rect.get_height()\n",
    "    ax.text(rect.get_x() + rect.get_width() / 2, height + 0.01, label,\n",
    "                ha='center', va='bottom', fontsize=36)\n",
    "barlist2 = ax.bar(mt_train_topics[\"Name\"], mt_train_topics[\"Count\"], color='seagreen')\n",
    "#barlist2[0].set_color('lightcoral')\n",
    "#ax.legend((barlist1[1], barlist2[1]), ('Aides Territoires', 'Mission Transition'), fontsize='xx-large', markerscale=5.0)\n",
    "fig.savefig(\"MT_AT_traintopics_hist.png\", format='png', bbox_inches=\"tight\")"
   ]
  },
  {
   "cell_type": "code",
   "execution_count": 40,
   "metadata": {
    "collapsed": false
   },
   "outputs": [
    {
     "data": {
      "image/png": "[encoded data removed]",
      "text/plain": [
       "<Figure size 432x288 with 1 Axes>"
      ]
     },
     "metadata": {},
     "output_type": "display_data"
    }
   ],
   "source": [
    "# plot 2 histograms side by side - matplotlib. \n",
    "import numpy as np\n",
    "import matplotlib.pyplot as plt\n",
    "\n",
    "N = 5\n",
    "menMeans = (20, 35, 30, 35, 27)\n",
    "menStd =   (2, 3, 4, 1, 2)\n",
    "\n",
    "ind = np.arange(N)  # the x locations for the groups\n",
    "width = 0.35       # the width of the bars\n",
    "\n",
    "fig = plt.figure()\n",
    "ax = fig.add_subplot(111)\n",
    "rects1 = ax.bar(ind, menMeans, width, color='royalblue', yerr=menStd)\n",
    "\n",
    "womenMeans = (25, 32, 34, 20, 25)\n",
    "womenStd =   (3, 5, 2, 3, 3)\n",
    "rects2 = ax.bar(ind+width, womenMeans, width, color='seagreen', yerr=womenStd)\n",
    "\n",
    "# add some\n",
    "ax.set_ylabel('Scores')\n",
    "ax.set_title('Scores by group and gender')\n",
    "ax.set_xticks(ind + width / 2)\n",
    "ax.set_xticklabels( ('G1', 'G2', 'G3', 'G4', 'G5') )\n",
    "\n",
    "ax.legend( (rects1[0], rects2[0]), ('Men', 'Women') )\n",
    "\n",
    "plt.show()"
   ]
  },
  {
   "cell_type": "code",
   "execution_count": null,
   "metadata": {
    "collapsed": true
   },
   "outputs": [],
   "source": []
  }
 ],
 "metadata": {
  "kernelspec": {
   "display_name": "Python 3",
   "language": "python",
   "name": "python3"
  },
  "language_info": {
   "codemirror_mode": {
    "name": "ipython",
    "version": 3
   },
   "file_extension": ".py",
   "mimetype": "text/x-python",
   "name": "python",
   "nbconvert_exporter": "python",
   "pygments_lexer": "ipython3",
   "version": "3.6.0"
  }
 },
 "nbformat": 4,
 "nbformat_minor": 2
}
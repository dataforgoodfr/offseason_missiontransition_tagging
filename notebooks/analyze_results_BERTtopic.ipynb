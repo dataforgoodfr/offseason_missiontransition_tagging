{
 "cells": [
  {
   "cell_type": "code",
   "execution_count": 8,
   "metadata": {
    "collapsed": true
   },
   "outputs": [],
   "source": [
    "import pandas as pd\n",
    "import numpy as np"
   ]
  },
  {
   "cell_type": "code",
   "execution_count": 3,
   "metadata": {
    "collapsed": false
   },
   "outputs": [],
   "source": [
    "results = pd.read_csv(\"eval_BERTtopic_human+zeroshot.csv\")"
   ]
  },
  {
   "cell_type": "code",
   "execution_count": 4,
   "metadata": {
    "collapsed": false
   },
   "outputs": [
    {
     "data": {
      "text/html": [
       "<div>\n",
       "<table border=\"1\" class=\"dataframe\">\n",
       "  <thead>\n",
       "    <tr style=\"text-align: right;\">\n",
       "      <th></th>\n",
       "      <th>Unnamed: 0</th>\n",
       "      <th>id</th>\n",
       "      <th>description</th>\n",
       "      <th>tag</th>\n",
       "      <th>Annotation manuelle</th>\n",
       "      <th>label</th>\n",
       "      <th>zero_shot_score</th>\n",
       "      <th>clean_tag</th>\n",
       "      <th>zero_shot_label</th>\n",
       "    </tr>\n",
       "  </thead>\n",
       "  <tbody>\n",
       "    <tr>\n",
       "      <th>0</th>\n",
       "      <td>0</td>\n",
       "      <td>95066</td>\n",
       "      <td>Objectifs :contribuer à l'atteinte des objecti...</td>\n",
       "      <td>2_énergie_énergétique_chaleur_énergies</td>\n",
       "      <td>2_énergie_énergétique_chaleur_énergies</td>\n",
       "      <td>1</td>\n",
       "      <td>0.575893</td>\n",
       "      <td>énergie énergétique chaleur énergies</td>\n",
       "      <td>0.5</td>\n",
       "    </tr>\n",
       "    <tr>\n",
       "      <th>1</th>\n",
       "      <td>1</td>\n",
       "      <td>103448</td>\n",
       "      <td>&lt;img alt=\"Budget participatif écologique de la...</td>\n",
       "      <td>2_énergie_énergétique_chaleur_énergies</td>\n",
       "      <td>2_énergie_énergétique_chaleur_énergies</td>\n",
       "      <td>1</td>\n",
       "      <td>0.556664</td>\n",
       "      <td>énergie énergétique chaleur énergies</td>\n",
       "      <td>0.5</td>\n",
       "    </tr>\n",
       "    <tr>\n",
       "      <th>2</th>\n",
       "      <td>2</td>\n",
       "      <td>60904</td>\n",
       "      <td>La BPI investit dans des PME et ETI performant...</td>\n",
       "      <td>1_entreprises_entreprise_innovation_export</td>\n",
       "      <td>1_entreprises_entreprise_innovation_export</td>\n",
       "      <td>1</td>\n",
       "      <td>0.023275</td>\n",
       "      <td>entreprises entreprise innovation export</td>\n",
       "      <td>0.0</td>\n",
       "    </tr>\n",
       "    <tr>\n",
       "      <th>3</th>\n",
       "      <td>3</td>\n",
       "      <td>89215</td>\n",
       "      <td>La formation-développement est une méthode d'a...</td>\n",
       "      <td>17_territoires_développement_territoire_projets</td>\n",
       "      <td>17_territoires_développement_territoire_projets</td>\n",
       "      <td>1</td>\n",
       "      <td>0.444700</td>\n",
       "      <td>territoires développement territoire projets</td>\n",
       "      <td>0.5</td>\n",
       "    </tr>\n",
       "    <tr>\n",
       "      <th>4</th>\n",
       "      <td>4</td>\n",
       "      <td>71378</td>\n",
       "      <td>Le conseil en mobilité pour l'insertion s'affi...</td>\n",
       "      <td>11_mobilité_vélo_cyclables_réseau</td>\n",
       "      <td>11_mobilité_vélo_cyclables_réseau</td>\n",
       "      <td>1</td>\n",
       "      <td>0.154063</td>\n",
       "      <td>mobilité vélo cyclables réseau</td>\n",
       "      <td>0.0</td>\n",
       "    </tr>\n",
       "  </tbody>\n",
       "</table>\n",
       "</div>"
      ],
      "text/plain": [
       "   Unnamed: 0      id                                        description  \\\n",
       "0           0   95066  Objectifs :contribuer à l'atteinte des objecti...   \n",
       "1           1  103448  <img alt=\"Budget participatif écologique de la...   \n",
       "2           2   60904  La BPI investit dans des PME et ETI performant...   \n",
       "3           3   89215  La formation-développement est une méthode d'a...   \n",
       "4           4   71378  Le conseil en mobilité pour l'insertion s'affi...   \n",
       "\n",
       "                                               tag  \\\n",
       "0           2_énergie_énergétique_chaleur_énergies   \n",
       "1           2_énergie_énergétique_chaleur_énergies   \n",
       "2       1_entreprises_entreprise_innovation_export   \n",
       "3  17_territoires_développement_territoire_projets   \n",
       "4                11_mobilité_vélo_cyclables_réseau   \n",
       "\n",
       "                               Annotation manuelle label  zero_shot_score  \\\n",
       "0           2_énergie_énergétique_chaleur_énergies     1         0.575893   \n",
       "1           2_énergie_énergétique_chaleur_énergies     1         0.556664   \n",
       "2       1_entreprises_entreprise_innovation_export     1         0.023275   \n",
       "3  17_territoires_développement_territoire_projets     1         0.444700   \n",
       "4                11_mobilité_vélo_cyclables_réseau     1         0.154063   \n",
       "\n",
       "                                      clean_tag  zero_shot_label  \n",
       "0          énergie énergétique chaleur énergies              0.5  \n",
       "1          énergie énergétique chaleur énergies              0.5  \n",
       "2      entreprises entreprise innovation export              0.0  \n",
       "3  territoires développement territoire projets              0.5  \n",
       "4                mobilité vélo cyclables réseau              0.0  "
      ]
     },
     "execution_count": 4,
     "metadata": {},
     "output_type": "execute_result"
    }
   ],
   "source": [
    "results.head()"
   ]
  },
  {
   "cell_type": "code",
   "execution_count": 5,
   "metadata": {
    "collapsed": true
   },
   "outputs": [],
   "source": [
    "results.drop(labels=['Unnamed: 0'], axis=1, inplace=True)"
   ]
  },
  {
   "cell_type": "code",
   "execution_count": 23,
   "metadata": {
    "collapsed": false
   },
   "outputs": [],
   "source": [
    "results[\"label\"] = results[\"label\"].apply(lambda x: x.replace(',', '.'))"
   ]
  },
  {
   "cell_type": "code",
   "execution_count": 25,
   "metadata": {
    "collapsed": false
   },
   "outputs": [
    {
     "data": {
      "text/plain": [
       "id                       int64\n",
       "description             object\n",
       "tag                     object\n",
       "Annotation manuelle     object\n",
       "label                  float64\n",
       "zero_shot_score        float64\n",
       "clean_tag               object\n",
       "zero_shot_label        float64\n",
       "dtype: object"
      ]
     },
     "execution_count": 25,
     "metadata": {},
     "output_type": "execute_result"
    }
   ],
   "source": [
    "results.astype({'label': 'float64'}).dtypes"
   ]
  },
  {
   "cell_type": "code",
   "execution_count": 28,
   "metadata": {
    "collapsed": false
   },
   "outputs": [],
   "source": [
    "results = results.astype({'label': 'float64'})"
   ]
  },
  {
   "cell_type": "code",
   "execution_count": 29,
   "metadata": {
    "collapsed": false
   },
   "outputs": [
    {
     "data": {
      "text/plain": [
       "id                       int64\n",
       "description             object\n",
       "tag                     object\n",
       "Annotation manuelle     object\n",
       "label                  float64\n",
       "zero_shot_score        float64\n",
       "clean_tag               object\n",
       "zero_shot_label        float64\n",
       "dtype: object"
      ]
     },
     "execution_count": 29,
     "metadata": {},
     "output_type": "execute_result"
    }
   ],
   "source": [
    "results.dtypes"
   ]
  },
  {
   "cell_type": "code",
   "execution_count": 30,
   "metadata": {
    "collapsed": false
   },
   "outputs": [],
   "source": [
    "comparison = results[\"zero_shot_label\"] == results[\"label\"]"
   ]
  },
  {
   "cell_type": "code",
   "execution_count": 32,
   "metadata": {
    "collapsed": false
   },
   "outputs": [
    {
     "data": {
      "text/plain": [
       "0    False\n",
       "1    False\n",
       "2    False\n",
       "3    False\n",
       "4    False\n",
       "5    False\n",
       "6     True\n",
       "7    False\n",
       "8    False\n",
       "9    False\n",
       "dtype: bool"
      ]
     },
     "execution_count": 32,
     "metadata": {},
     "output_type": "execute_result"
    }
   ],
   "source": [
    "comparison.head(10)"
   ]
  },
  {
   "cell_type": "code",
   "execution_count": 33,
   "metadata": {
    "collapsed": false
   },
   "outputs": [
    {
     "data": {
      "text/plain": [
       "28"
      ]
     },
     "execution_count": 33,
     "metadata": {},
     "output_type": "execute_result"
    }
   ],
   "source": [
    "np.sum(comparison)"
   ]
  },
  {
   "cell_type": "code",
   "execution_count": 34,
   "metadata": {
    "collapsed": false
   },
   "outputs": [
    {
     "name": "stdout",
     "output_type": "stream",
     "text": [
      "accuracy 0.23529411764705882\n"
     ]
    }
   ],
   "source": [
    "acc = np.sum(comparison) / len(comparison)\n",
    "print(\"accuracy\", acc)"
   ]
  }
 ],
 "metadata": {
  "kernelspec": {
   "display_name": "Python 3",
   "language": "python",
   "name": "python3"
  },
  "language_info": {
   "codemirror_mode": {
    "name": "ipython",
    "version": 3
   },
   "file_extension": ".py",
   "mimetype": "text/x-python",
   "name": "python",
   "nbconvert_exporter": "python",
   "pygments_lexer": "ipython3",
   "version": "3.6.0"
  }
 },
 "nbformat": 4,
 "nbformat_minor": 2
}
